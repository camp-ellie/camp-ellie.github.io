{
 "cells": [
  {
   "cell_type": "code",
   "execution_count": 9,
   "id": "952d5b1e-04f1-4284-94ba-a32dba02198f",
   "metadata": {
    "tags": []
   },
   "outputs": [
    {
     "data": {
      "text/html": [
       "<div>\n",
       "<style scoped>\n",
       "    .dataframe tbody tr th:only-of-type {\n",
       "        vertical-align: middle;\n",
       "    }\n",
       "\n",
       "    .dataframe tbody tr th {\n",
       "        vertical-align: top;\n",
       "    }\n",
       "\n",
       "    .dataframe thead th {\n",
       "        text-align: right;\n",
       "    }\n",
       "</style>\n",
       "<table border=\"1\" class=\"dataframe\">\n",
       "  <thead>\n",
       "    <tr style=\"text-align: right;\">\n",
       "      <th></th>\n",
       "      <th>Location</th>\n",
       "      <th>Data</th>\n",
       "      <th>Dates</th>\n",
       "      <th>Date</th>\n",
       "    </tr>\n",
       "  </thead>\n",
       "  <tbody>\n",
       "    <tr>\n",
       "      <th>0</th>\n",
       "      <td>{'City': 'anchor point', 'State': 'AK', 'Count...</td>\n",
       "      <td>{'Shape': 'disk', 'Encounter duration': 300.0,...</td>\n",
       "      <td>{'Sighted': {'Year': 2005, 'Month': 5, 'Hour':...</td>\n",
       "      <td>{'Sighted': {'Day': 24}}</td>\n",
       "    </tr>\n",
       "    <tr>\n",
       "      <th>1</th>\n",
       "      <td>{'City': 'anchorage', 'State': 'AK', 'Country'...</td>\n",
       "      <td>{'Shape': 'changing', 'Encounter duration': 21...</td>\n",
       "      <td>{'Sighted': {'Year': 2000, 'Month': 12, 'Hour'...</td>\n",
       "      <td>{'Sighted': {'Day': 31}}</td>\n",
       "    </tr>\n",
       "    <tr>\n",
       "      <th>2</th>\n",
       "      <td>{'City': 'anchorage', 'State': 'AK', 'Country'...</td>\n",
       "      <td>{'Shape': 'changing', 'Encounter duration': 60...</td>\n",
       "      <td>{'Sighted': {'Year': 2006, 'Month': 10, 'Hour'...</td>\n",
       "      <td>{'Sighted': {'Day': 23}}</td>\n",
       "    </tr>\n",
       "    <tr>\n",
       "      <th>3</th>\n",
       "      <td>{'City': 'anchorage', 'State': 'AK', 'Country'...</td>\n",
       "      <td>{'Shape': 'cigar', 'Encounter duration': 15.0,...</td>\n",
       "      <td>{'Sighted': {'Year': 2014, 'Month': 3, 'Hour':...</td>\n",
       "      <td>{'Sighted': {'Day': 29}}</td>\n",
       "    </tr>\n",
       "    <tr>\n",
       "      <th>4</th>\n",
       "      <td>{'City': 'anchorage', 'State': 'AK', 'Country'...</td>\n",
       "      <td>{'Shape': 'circle', 'Encounter duration': 300....</td>\n",
       "      <td>{'Sighted': {'Year': 2011, 'Month': 10, 'Hour'...</td>\n",
       "      <td>{'Sighted': {'Day': 21}}</td>\n",
       "    </tr>\n",
       "  </tbody>\n",
       "</table>\n",
       "</div>"
      ],
      "text/plain": [
       "                                            Location  \\\n",
       "0  {'City': 'anchor point', 'State': 'AK', 'Count...   \n",
       "1  {'City': 'anchorage', 'State': 'AK', 'Country'...   \n",
       "2  {'City': 'anchorage', 'State': 'AK', 'Country'...   \n",
       "3  {'City': 'anchorage', 'State': 'AK', 'Country'...   \n",
       "4  {'City': 'anchorage', 'State': 'AK', 'Country'...   \n",
       "\n",
       "                                                Data  \\\n",
       "0  {'Shape': 'disk', 'Encounter duration': 300.0,...   \n",
       "1  {'Shape': 'changing', 'Encounter duration': 21...   \n",
       "2  {'Shape': 'changing', 'Encounter duration': 60...   \n",
       "3  {'Shape': 'cigar', 'Encounter duration': 15.0,...   \n",
       "4  {'Shape': 'circle', 'Encounter duration': 300....   \n",
       "\n",
       "                                               Dates                      Date  \n",
       "0  {'Sighted': {'Year': 2005, 'Month': 5, 'Hour':...  {'Sighted': {'Day': 24}}  \n",
       "1  {'Sighted': {'Year': 2000, 'Month': 12, 'Hour'...  {'Sighted': {'Day': 31}}  \n",
       "2  {'Sighted': {'Year': 2006, 'Month': 10, 'Hour'...  {'Sighted': {'Day': 23}}  \n",
       "3  {'Sighted': {'Year': 2014, 'Month': 3, 'Hour':...  {'Sighted': {'Day': 29}}  \n",
       "4  {'Sighted': {'Year': 2011, 'Month': 10, 'Hour'...  {'Sighted': {'Day': 21}}  "
      ]
     },
     "execution_count": 9,
     "metadata": {},
     "output_type": "execute_result"
    }
   ],
   "source": [
    "import ufo_sightings\n",
    "import pandas as pd\n",
    "sighting = ufo_sightings.get_sighting()\n",
    "df = pd.DataFrame(sighting)\n",
    "df.head()"
   ]
  },
  {
   "cell_type": "code",
   "execution_count": 7,
   "id": "b22e5d99-f083-414d-a714-3c6dd19d5159",
   "metadata": {
    "tags": []
   },
   "outputs": [
    {
     "data": {
      "text/plain": [
       "{'City': 'anchor point',\n",
       " 'State': 'AK',\n",
       " 'Country': 'US',\n",
       " 'Coordinates': {'Latitude ': 59.7766667, 'Longitude ': -151.8313889}}"
      ]
     },
     "execution_count": 7,
     "metadata": {},
     "output_type": "execute_result"
    }
   ],
   "source": [
    "df.iloc[0]['Location']"
   ]
  },
  {
   "cell_type": "code",
   "execution_count": 8,
   "id": "46a02f72-fe89-41ec-b886-f92e8f198cc0",
   "metadata": {
    "tags": []
   },
   "outputs": [
    {
     "data": {
      "text/plain": [
       "{'Shape': 'disk',\n",
       " 'Encounter duration': 300.0,\n",
       " 'Description excerpt': 'Large UFO over Mt. ILIAMNA Alaska.  ((NUFORC Note:  Possible contrail behind a high-altitude jet??  PD))'}"
      ]
     },
     "execution_count": 8,
     "metadata": {},
     "output_type": "execute_result"
    }
   ],
   "source": [
    "df.iloc[0]['Data']"
   ]
  },
  {
   "cell_type": "code",
   "execution_count": 10,
   "id": "16088736-8131-4220-ac69-e21728c40c77",
   "metadata": {
    "tags": []
   },
   "outputs": [
    {
     "data": {
      "text/plain": [
       "{'Sighted': {'Year': 2005, 'Month': 5, 'Hour': 18, 'Minute': 30},\n",
       " 'Documented': {'Year': 2005, 'Month': 5, 'Day': 28}}"
      ]
     },
     "execution_count": 10,
     "metadata": {},
     "output_type": "execute_result"
    }
   ],
   "source": [
    "df.iloc[0]['Dates']"
   ]
  },
  {
   "cell_type": "code",
   "execution_count": 11,
   "id": "d5f72d67-4338-4b79-a858-633cb164c804",
   "metadata": {
    "tags": []
   },
   "outputs": [
    {
     "data": {
      "text/plain": [
       "{'Sighted': {'Day': 24}}"
      ]
     },
     "execution_count": 11,
     "metadata": {},
     "output_type": "execute_result"
    }
   ],
   "source": [
    "df.iloc[0]['Date']"
   ]
  },
  {
   "cell_type": "code",
   "execution_count": 12,
   "id": "cfa3b885-a658-4ad8-88aa-864b6d0d63c2",
   "metadata": {
    "tags": []
   },
   "outputs": [
    {
     "data": {
      "text/plain": [
       "242528"
      ]
     },
     "execution_count": 12,
     "metadata": {},
     "output_type": "execute_result"
    }
   ],
   "source": [
    "df.size"
   ]
  },
  {
   "cell_type": "code",
   "execution_count": 13,
   "id": "d348f759-aa64-4b90-bfb6-41172673c6f1",
   "metadata": {
    "tags": []
   },
   "outputs": [
    {
     "data": {
      "text/plain": [
       "60632"
      ]
     },
     "execution_count": 13,
     "metadata": {},
     "output_type": "execute_result"
    }
   ],
   "source": [
    "num_rows = df.shape[0]\n",
    "num_rows"
   ]
  },
  {
   "cell_type": "code",
   "execution_count": 14,
   "id": "2fae6024-5b75-4d49-bdc5-74935bf3de36",
   "metadata": {
    "tags": []
   },
   "outputs": [
    {
     "name": "stdout",
     "output_type": "stream",
     "text": [
      "Location    0\n",
      "Data        0\n",
      "Dates       0\n",
      "Date        0\n",
      "dtype: int64\n"
     ]
    }
   ],
   "source": [
    "missing_values = df.isnull().sum()\n",
    "print(missing_values)"
   ]
  },
  {
   "cell_type": "code",
   "execution_count": null,
   "id": "af441ebe-a722-408b-9659-64f28961ee19",
   "metadata": {},
   "outputs": [],
   "source": []
  }
 ],
 "metadata": {
  "kernelspec": {
   "display_name": "Python 3 (ipykernel)",
   "language": "python",
   "name": "python3"
  },
  "language_info": {
   "codemirror_mode": {
    "name": "ipython",
    "version": 3
   },
   "file_extension": ".py",
   "mimetype": "text/x-python",
   "name": "python",
   "nbconvert_exporter": "python",
   "pygments_lexer": "ipython3",
   "version": "3.11.4"
  }
 },
 "nbformat": 4,
 "nbformat_minor": 5
}
